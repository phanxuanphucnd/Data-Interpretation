{
 "cells": [
  {
   "cell_type": "code",
   "execution_count": 1,
   "id": "85271410",
   "metadata": {},
   "outputs": [],
   "source": [
    "from captum_playground import CaptumInterpreter"
   ]
  },
  {
   "cell_type": "code",
   "execution_count": 2,
   "id": "dbcd7185",
   "metadata": {},
   "outputs": [],
   "source": [
    "captum_interpreter = CaptumInterpreter(\n",
    "    method='LayerIntergratedGradients',\n",
    "    model_path='models/sa_head.pt',\n",
    "    pretrained_name_or_path='models/bdi-roberta',\n",
    "    tokenizer_path='models/bdi-tokenizer',\n",
    "    device='cpu',\n",
    "    is_visualize=True\n",
    ")"
   ]
  },
  {
   "cell_type": "code",
   "execution_count": 3,
   "id": "b683bb47",
   "metadata": {},
   "outputs": [
    {
     "data": {
      "text/plain": [
       "(array([-0.03101242, -0.15081399, -0.72819374, -0.50489279,  0.42229405,\n",
       "         0.11304095]),\n",
       " tensor([-3.2516], dtype=torch.float64),\n",
       " 0.9199813604354858,\n",
       " 0,\n",
       " tensor([[    0,  4767, 38436,   597,  2799,     2]]))"
      ]
     },
     "execution_count": 3,
     "metadata": {},
     "output_type": "execute_result"
    }
   ],
   "source": [
    "a = captum_interpreter.interpret_sample(\n",
    "    text=\"xe vinfast rất tệ\",\n",
    "    max_length=200,\n",
    "    label=0,\n",
    "    target=0\n",
    ")\n",
    "a"
   ]
  },
  {
   "cell_type": "code",
   "execution_count": 7,
   "id": "2c6492c1",
   "metadata": {},
   "outputs": [
    {
     "name": "stdout",
     "output_type": "stream",
     "text": [
      "attributions: [-0.03021361 -0.14450266  0.93620428  0.2540396 ] \n",
      " text: ['xe', ' vinfast', ' ok', ' mà']\n",
      "attributions: [-0.15081399 -0.72819374 -0.50489279  0.42229405] \n",
      " text: ['xe', ' vinfast', ' rất', ' tệ']\n"
     ]
    },
    {
     "data": {
      "text/html": [
       "<table width: 100%><div style=\"border-top: 1px solid; margin-top: 5px;                 padding-top: 5px; display: inline-block\"><b>Legend: </b><span style=\"display: inline-block; width: 10px; height: 10px;                     border: 1px solid; background-color:                     hsl(0, 75%, 60%)\"></span> Negative  <span style=\"display: inline-block; width: 10px; height: 10px;                     border: 1px solid; background-color:                     hsl(0, 75%, 100%)\"></span> Neutral  <span style=\"display: inline-block; width: 10px; height: 10px;                     border: 1px solid; background-color:                     hsl(120, 75%, 50%)\"></span> Positive  </div><tr><th>True Label</th><th>Predicted Label</th><th>Attribution Label</th><th>Attribution Score</th><th>Word Importance</th><tr><td><text style=\"padding-right:2em\"><b>POS</b></text></td><td><text style=\"padding-right:2em\"><b>POS (0.74)</b></text></td><td><text style=\"padding-right:2em\"><b>POS</b></text></td><td><text style=\"padding-right:2em\"><b>0.55</b></text></td><td><mark style=\"background-color: hsl(120, 75%, 97%); opacity:1.0;                         line-height:1.75\"><font color=\"black\"> vin                        </font></mark><mark style=\"background-color: hsl(0, 75%, 90%); opacity:1.0;                         line-height:1.75\"><font color=\"black\"> fast                        </font></mark><mark style=\"background-color: hsl(120, 75%, 54%); opacity:1.0;                         line-height:1.75\"><font color=\"black\">  rất                        </font></mark><mark style=\"background-color: hsl(0, 75%, 92%); opacity:1.0;                         line-height:1.75\"><font color=\"black\">  tốt                        </font></mark></td><tr><tr><td><text style=\"padding-right:2em\"><b>POS</b></text></td><td><text style=\"padding-right:2em\"><b>POS (0.88)</b></text></td><td><text style=\"padding-right:2em\"><b>POS</b></text></td><td><text style=\"padding-right:2em\"><b>1.47</b></text></td><td><mark style=\"background-color: hsl(120, 75%, 59%); opacity:1.0;                         line-height:1.75\"><font color=\"black\"> xe                        </font></mark><mark style=\"background-color: hsl(120, 75%, 86%); opacity:1.0;                         line-height:1.75\"><font color=\"black\">  vinfast                        </font></mark><mark style=\"background-color: hsl(120, 75%, 79%); opacity:1.0;                         line-height:1.75\"><font color=\"black\">  rất                        </font></mark><mark style=\"background-color: hsl(0, 75%, 98%); opacity:1.0;                         line-height:1.75\"><font color=\"black\">  tốt                        </font></mark></td><tr><tr><td><text style=\"padding-right:2em\"><b>POS</b></text></td><td><text style=\"padding-right:2em\"><b>POS (0.88)</b></text></td><td><text style=\"padding-right:2em\"><b>POS</b></text></td><td><text style=\"padding-right:2em\"><b>1.47</b></text></td><td><mark style=\"background-color: hsl(120, 75%, 59%); opacity:1.0;                         line-height:1.75\"><font color=\"black\"> xe                        </font></mark><mark style=\"background-color: hsl(120, 75%, 86%); opacity:1.0;                         line-height:1.75\"><font color=\"black\">  vinfast                        </font></mark><mark style=\"background-color: hsl(120, 75%, 79%); opacity:1.0;                         line-height:1.75\"><font color=\"black\">  rất                        </font></mark><mark style=\"background-color: hsl(0, 75%, 98%); opacity:1.0;                         line-height:1.75\"><font color=\"black\">  tốt                        </font></mark></td><tr><tr><td><text style=\"padding-right:2em\"><b>NEG</b></text></td><td><text style=\"padding-right:2em\"><b>NEG (0.92)</b></text></td><td><text style=\"padding-right:2em\"><b>NEG</b></text></td><td><text style=\"padding-right:2em\"><b>-0.96</b></text></td><td><mark style=\"background-color: hsl(0, 75%, 94%); opacity:1.0;                         line-height:1.75\"><font color=\"black\"> xe                        </font></mark><mark style=\"background-color: hsl(0, 75%, 71%); opacity:1.0;                         line-height:1.75\"><font color=\"black\">  vinfast                        </font></mark><mark style=\"background-color: hsl(0, 75%, 80%); opacity:1.0;                         line-height:1.75\"><font color=\"black\">  rất                        </font></mark><mark style=\"background-color: hsl(120, 75%, 79%); opacity:1.0;                         line-height:1.75\"><font color=\"black\">  tệ                        </font></mark></td><tr><tr><td><text style=\"padding-right:2em\"><b>POS</b></text></td><td><text style=\"padding-right:2em\"><b>POS (0.67)</b></text></td><td><text style=\"padding-right:2em\"><b>POS</b></text></td><td><text style=\"padding-right:2em\"><b>1.02</b></text></td><td><mark style=\"background-color: hsl(0, 75%, 99%); opacity:1.0;                         line-height:1.75\"><font color=\"black\"> xe                        </font></mark><mark style=\"background-color: hsl(0, 75%, 95%); opacity:1.0;                         line-height:1.75\"><font color=\"black\">  vinfast                        </font></mark><mark style=\"background-color: hsl(120, 75%, 54%); opacity:1.0;                         line-height:1.75\"><font color=\"black\">  ok                        </font></mark><mark style=\"background-color: hsl(120, 75%, 88%); opacity:1.0;                         line-height:1.75\"><font color=\"black\">  mà                        </font></mark></td><tr><tr><td><text style=\"padding-right:2em\"><b>NEG</b></text></td><td><text style=\"padding-right:2em\"><b>NEG (0.92)</b></text></td><td><text style=\"padding-right:2em\"><b>NEG</b></text></td><td><text style=\"padding-right:2em\"><b>-0.96</b></text></td><td><mark style=\"background-color: hsl(0, 75%, 94%); opacity:1.0;                         line-height:1.75\"><font color=\"black\"> xe                        </font></mark><mark style=\"background-color: hsl(0, 75%, 71%); opacity:1.0;                         line-height:1.75\"><font color=\"black\">  vinfast                        </font></mark><mark style=\"background-color: hsl(0, 75%, 80%); opacity:1.0;                         line-height:1.75\"><font color=\"black\">  rất                        </font></mark><mark style=\"background-color: hsl(120, 75%, 79%); opacity:1.0;                         line-height:1.75\"><font color=\"black\">  tệ                        </font></mark></td><tr></table>"
      ],
      "text/plain": [
       "<IPython.core.display.HTML object>"
      ]
     },
     "metadata": {},
     "output_type": "display_data"
    }
   ],
   "source": [
    "captum_interpreter.visualize_samples(\n",
    "    text=[\"xe vinfast ok mà\", \"xe vinfast rất tệ\"],\n",
    "    max_length=200,\n",
    "    label=[1, 0],\n",
    "    target=[1, 0]\n",
    ")"
   ]
  },
  {
   "cell_type": "code",
   "execution_count": null,
   "id": "c489a5a9",
   "metadata": {},
   "outputs": [],
   "source": []
  }
 ],
 "metadata": {
  "kernelspec": {
   "display_name": "txt",
   "language": "python",
   "name": "txt"
  },
  "language_info": {
   "codemirror_mode": {
    "name": "ipython",
    "version": 3
   },
   "file_extension": ".py",
   "mimetype": "text/x-python",
   "name": "python",
   "nbconvert_exporter": "python",
   "pygments_lexer": "ipython3",
   "version": "3.7.2"
  }
 },
 "nbformat": 4,
 "nbformat_minor": 5
}
