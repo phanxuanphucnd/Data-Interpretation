{
 "cells": [
  {
   "cell_type": "code",
   "execution_count": 1,
   "id": "b1f88c3f",
   "metadata": {},
   "outputs": [],
   "source": [
    "from captum_playground import CaptumInterpreter"
   ]
  },
  {
   "cell_type": "code",
   "execution_count": 2,
   "id": "bdc89c08",
   "metadata": {},
   "outputs": [],
   "source": [
    "captum_interpreter = CaptumInterpreter(\n",
    "    method='LayerDeepLift',\n",
    "    model_path='models/sa_head.pt',\n",
    "    pretrained_name_or_path='models/bdi-roberta',\n",
    "    tokenizer_path='models/bdi-tokenizer',\n",
    "    device='cpu',\n",
    "    is_visualize=True\n",
    ")"
   ]
  },
  {
   "cell_type": "code",
   "execution_count": 3,
   "id": "58f297d7",
   "metadata": {},
   "outputs": [
    {
     "data": {
      "text/plain": [
       "(array([-0.15895379,  0.30380228,  0.1401884 , -0.51615196, -0.5823024 ,\n",
       "        -0.50724363], dtype=float32),\n",
       " tensor([-2.3729]),\n",
       " 0.9199813604354858,\n",
       " 0,\n",
       " tensor([[    0,  4767, 38436,   597,  2799,     2]]))"
      ]
     },
     "execution_count": 3,
     "metadata": {},
     "output_type": "execute_result"
    }
   ],
   "source": [
    "a = captum_interpreter.interpret_sample(\n",
    "    text=\"xe vinfast rất tệ\",\n",
    "    max_length=200,\n",
    "    label=0,\n",
    "    target=0\n",
    ")\n",
    "a"
   ]
  },
  {
   "cell_type": "code",
   "execution_count": 10,
   "id": "83c99017",
   "metadata": {},
   "outputs": [
    {
     "name": "stdout",
     "output_type": "stream",
     "text": [
      "attributions: [-0.26437983 -0.22843416  0.43466926  0.664866  ] \n",
      " text: ['xe', ' vinfast', ' rất', ' tệ']\n",
      "attributions: [ 0.00569639 -0.20731175 -0.16630974 -0.21546943] \n",
      " text: ['mb', ' bank', ' rất', ' tốt']\n"
     ]
    },
    {
     "data": {
      "text/html": [
       "<table width: 100%><div style=\"border-top: 1px solid; margin-top: 5px;                 padding-top: 5px; display: inline-block\"><b>Legend: </b><span style=\"display: inline-block; width: 10px; height: 10px;                     border: 1px solid; background-color:                     hsl(0, 75%, 60%)\"></span> Negative  <span style=\"display: inline-block; width: 10px; height: 10px;                     border: 1px solid; background-color:                     hsl(0, 75%, 100%)\"></span> Neutral  <span style=\"display: inline-block; width: 10px; height: 10px;                     border: 1px solid; background-color:                     hsl(120, 75%, 50%)\"></span> Positive  </div><tr><th>True Label</th><th>Predicted Label</th><th>Attribution Label</th><th>Attribution Score</th><th>Word Importance</th><tr><td><text style=\"padding-right:2em\"><b>NEG</b></text></td><td><text style=\"padding-right:2em\"><b>NEG (0.92)</b></text></td><td><text style=\"padding-right:2em\"><b>NEG</b></text></td><td><text style=\"padding-right:2em\"><b>-0.65</b></text></td><td><mark style=\"background-color: hsl(120, 75%, 85%); opacity:1.0;                         line-height:1.75\"><font color=\"black\"> xe                        </font></mark><mark style=\"background-color: hsl(120, 75%, 93%); opacity:1.0;                         line-height:1.75\"><font color=\"black\">  vinfast                        </font></mark><mark style=\"background-color: hsl(0, 75%, 80%); opacity:1.0;                         line-height:1.75\"><font color=\"black\">  rất                        </font></mark><mark style=\"background-color: hsl(0, 75%, 77%); opacity:1.0;                         line-height:1.75\"><font color=\"black\">  tệ                        </font></mark></td><tr><tr><td><text style=\"padding-right:2em\"><b>NEG</b></text></td><td><text style=\"padding-right:2em\"><b>NEG (0.94)</b></text></td><td><text style=\"padding-right:2em\"><b>NEG</b></text></td><td><text style=\"padding-right:2em\"><b>-0.47</b></text></td><td><mark style=\"background-color: hsl(120, 75%, 86%); opacity:1.0;                         line-height:1.75\"><font color=\"black\"> mb                        </font></mark><mark style=\"background-color: hsl(0, 75%, 94%); opacity:1.0;                         line-height:1.75\"><font color=\"black\">  bank                        </font></mark><mark style=\"background-color: hsl(0, 75%, 86%); opacity:1.0;                         line-height:1.75\"><font color=\"black\">  khá                        </font></mark><mark style=\"background-color: hsl(0, 75%, 91%); opacity:1.0;                         line-height:1.75\"><font color=\"black\">  tệ                        </font></mark></td><tr><tr><td><text style=\"padding-right:2em\"><b>NEG</b></text></td><td><text style=\"padding-right:2em\"><b>NEG (0.92)</b></text></td><td><text style=\"padding-right:2em\"><b>NEG</b></text></td><td><text style=\"padding-right:2em\"><b>-0.65</b></text></td><td><mark style=\"background-color: hsl(120, 75%, 85%); opacity:1.0;                         line-height:1.75\"><font color=\"black\"> xe                        </font></mark><mark style=\"background-color: hsl(120, 75%, 93%); opacity:1.0;                         line-height:1.75\"><font color=\"black\">  vinfast                        </font></mark><mark style=\"background-color: hsl(0, 75%, 80%); opacity:1.0;                         line-height:1.75\"><font color=\"black\">  rất                        </font></mark><mark style=\"background-color: hsl(0, 75%, 77%); opacity:1.0;                         line-height:1.75\"><font color=\"black\">  tệ                        </font></mark></td><tr><tr><td><text style=\"padding-right:2em\"><b>NEG</b></text></td><td><text style=\"padding-right:2em\"><b>NEG (0.94)</b></text></td><td><text style=\"padding-right:2em\"><b>POS</b></text></td><td><text style=\"padding-right:2em\"><b>0.75</b></text></td><td><mark style=\"background-color: hsl(0, 75%, 100%); opacity:1.0;                         line-height:1.75\"><font color=\"black\"> mb                        </font></mark><mark style=\"background-color: hsl(120, 75%, 93%); opacity:1.0;                         line-height:1.75\"><font color=\"black\">  bank                        </font></mark><mark style=\"background-color: hsl(120, 75%, 87%); opacity:1.0;                         line-height:1.75\"><font color=\"black\">  khá                        </font></mark><mark style=\"background-color: hsl(120, 75%, 84%); opacity:1.0;                         line-height:1.75\"><font color=\"black\">  tệ                        </font></mark></td><tr><tr><td><text style=\"padding-right:2em\"><b>NEG</b></text></td><td><text style=\"padding-right:2em\"><b>NEG (0.92)</b></text></td><td><text style=\"padding-right:2em\"><b>NEG</b></text></td><td><text style=\"padding-right:2em\"><b>-0.65</b></text></td><td><mark style=\"background-color: hsl(120, 75%, 85%); opacity:1.0;                         line-height:1.75\"><font color=\"black\"> xe                        </font></mark><mark style=\"background-color: hsl(120, 75%, 93%); opacity:1.0;                         line-height:1.75\"><font color=\"black\">  vinfast                        </font></mark><mark style=\"background-color: hsl(0, 75%, 80%); opacity:1.0;                         line-height:1.75\"><font color=\"black\">  rất                        </font></mark><mark style=\"background-color: hsl(0, 75%, 77%); opacity:1.0;                         line-height:1.75\"><font color=\"black\">  tệ                        </font></mark></td><tr><tr><td><text style=\"padding-right:2em\"><b>POS</b></text></td><td><text style=\"padding-right:2em\"><b>NEG (0.94)</b></text></td><td><text style=\"padding-right:2em\"><b>POS</b></text></td><td><text style=\"padding-right:2em\"><b>0.75</b></text></td><td><mark style=\"background-color: hsl(0, 75%, 100%); opacity:1.0;                         line-height:1.75\"><font color=\"black\"> mb                        </font></mark><mark style=\"background-color: hsl(120, 75%, 93%); opacity:1.0;                         line-height:1.75\"><font color=\"black\">  bank                        </font></mark><mark style=\"background-color: hsl(120, 75%, 87%); opacity:1.0;                         line-height:1.75\"><font color=\"black\">  khá                        </font></mark><mark style=\"background-color: hsl(120, 75%, 84%); opacity:1.0;                         line-height:1.75\"><font color=\"black\">  tệ                        </font></mark></td><tr><tr><td><text style=\"padding-right:2em\"><b>NEG</b></text></td><td><text style=\"padding-right:2em\"><b>NEG (0.92)</b></text></td><td><text style=\"padding-right:2em\"><b>POS</b></text></td><td><text style=\"padding-right:2em\"><b>0.61</b></text></td><td><mark style=\"background-color: hsl(0, 75%, 90%); opacity:1.0;                         line-height:1.75\"><font color=\"black\"> xe                        </font></mark><mark style=\"background-color: hsl(0, 75%, 91%); opacity:1.0;                         line-height:1.75\"><font color=\"black\">  vinfast                        </font></mark><mark style=\"background-color: hsl(120, 75%, 79%); opacity:1.0;                         line-height:1.75\"><font color=\"black\">  rất                        </font></mark><mark style=\"background-color: hsl(120, 75%, 67%); opacity:1.0;                         line-height:1.75\"><font color=\"black\">  tệ                        </font></mark></td><tr><tr><td><text style=\"padding-right:2em\"><b>NEG</b></text></td><td><text style=\"padding-right:2em\"><b>NEG (0.94)</b></text></td><td><text style=\"padding-right:2em\"><b>POS</b></text></td><td><text style=\"padding-right:2em\"><b>0.75</b></text></td><td><mark style=\"background-color: hsl(0, 75%, 100%); opacity:1.0;                         line-height:1.75\"><font color=\"black\"> mb                        </font></mark><mark style=\"background-color: hsl(120, 75%, 93%); opacity:1.0;                         line-height:1.75\"><font color=\"black\">  bank                        </font></mark><mark style=\"background-color: hsl(120, 75%, 87%); opacity:1.0;                         line-height:1.75\"><font color=\"black\">  khá                        </font></mark><mark style=\"background-color: hsl(120, 75%, 84%); opacity:1.0;                         line-height:1.75\"><font color=\"black\">  tệ                        </font></mark></td><tr><tr><td><text style=\"padding-right:2em\"><b>NEG</b></text></td><td><text style=\"padding-right:2em\"><b>NEG (0.92)</b></text></td><td><text style=\"padding-right:2em\"><b>POS</b></text></td><td><text style=\"padding-right:2em\"><b>0.61</b></text></td><td><mark style=\"background-color: hsl(0, 75%, 90%); opacity:1.0;                         line-height:1.75\"><font color=\"black\"> xe                        </font></mark><mark style=\"background-color: hsl(0, 75%, 91%); opacity:1.0;                         line-height:1.75\"><font color=\"black\">  vinfast                        </font></mark><mark style=\"background-color: hsl(120, 75%, 79%); opacity:1.0;                         line-height:1.75\"><font color=\"black\">  rất                        </font></mark><mark style=\"background-color: hsl(120, 75%, 67%); opacity:1.0;                         line-height:1.75\"><font color=\"black\">  tệ                        </font></mark></td><tr><tr><td><text style=\"padding-right:2em\"><b>NEG</b></text></td><td><text style=\"padding-right:2em\"><b>POS (0.87)</b></text></td><td><text style=\"padding-right:2em\"><b>POS</b></text></td><td><text style=\"padding-right:2em\"><b>-0.58</b></text></td><td><mark style=\"background-color: hsl(120, 75%, 100%); opacity:1.0;                         line-height:1.75\"><font color=\"black\"> mb                        </font></mark><mark style=\"background-color: hsl(0, 75%, 92%); opacity:1.0;                         line-height:1.75\"><font color=\"black\">  bank                        </font></mark><mark style=\"background-color: hsl(0, 75%, 94%); opacity:1.0;                         line-height:1.75\"><font color=\"black\">  rất                        </font></mark><mark style=\"background-color: hsl(0, 75%, 92%); opacity:1.0;                         line-height:1.75\"><font color=\"black\">  tốt                        </font></mark></td><tr><tr><td><text style=\"padding-right:2em\"><b>NEG</b></text></td><td><text style=\"padding-right:2em\"><b>NEG (0.92)</b></text></td><td><text style=\"padding-right:2em\"><b>POS</b></text></td><td><text style=\"padding-right:2em\"><b>0.61</b></text></td><td><mark style=\"background-color: hsl(0, 75%, 90%); opacity:1.0;                         line-height:1.75\"><font color=\"black\"> xe                        </font></mark><mark style=\"background-color: hsl(0, 75%, 91%); opacity:1.0;                         line-height:1.75\"><font color=\"black\">  vinfast                        </font></mark><mark style=\"background-color: hsl(120, 75%, 79%); opacity:1.0;                         line-height:1.75\"><font color=\"black\">  rất                        </font></mark><mark style=\"background-color: hsl(120, 75%, 67%); opacity:1.0;                         line-height:1.75\"><font color=\"black\">  tệ                        </font></mark></td><tr><tr><td><text style=\"padding-right:2em\"><b>POS</b></text></td><td><text style=\"padding-right:2em\"><b>POS (0.87)</b></text></td><td><text style=\"padding-right:2em\"><b>POS</b></text></td><td><text style=\"padding-right:2em\"><b>-0.58</b></text></td><td><mark style=\"background-color: hsl(120, 75%, 100%); opacity:1.0;                         line-height:1.75\"><font color=\"black\"> mb                        </font></mark><mark style=\"background-color: hsl(0, 75%, 92%); opacity:1.0;                         line-height:1.75\"><font color=\"black\">  bank                        </font></mark><mark style=\"background-color: hsl(0, 75%, 94%); opacity:1.0;                         line-height:1.75\"><font color=\"black\">  rất                        </font></mark><mark style=\"background-color: hsl(0, 75%, 92%); opacity:1.0;                         line-height:1.75\"><font color=\"black\">  tốt                        </font></mark></td><tr></table>"
      ],
      "text/plain": [
       "<IPython.core.display.HTML object>"
      ]
     },
     "metadata": {},
     "output_type": "display_data"
    }
   ],
   "source": [
    "captum_interpreter.visualize_samples(\n",
    "    text=[\"xe vinfast rất tệ\", \"mb bank rất tốt\"],\n",
    "    max_length=200,\n",
    "    label=[0, 1],\n",
    "    target=[1, 1]\n",
    ")"
   ]
  },
  {
   "cell_type": "code",
   "execution_count": null,
   "id": "999abd2a",
   "metadata": {},
   "outputs": [],
   "source": [
    "captum_interpreter.captum_visualizer.visualize_text(captum_interpreter.visual_data_record)"
   ]
  },
  {
   "cell_type": "code",
   "execution_count": null,
   "id": "9ce34d0e",
   "metadata": {},
   "outputs": [],
   "source": []
  }
 ],
 "metadata": {
  "kernelspec": {
   "display_name": "txt",
   "language": "python",
   "name": "txt"
  },
  "language_info": {
   "codemirror_mode": {
    "name": "ipython",
    "version": 3
   },
   "file_extension": ".py",
   "mimetype": "text/x-python",
   "name": "python",
   "nbconvert_exporter": "python",
   "pygments_lexer": "ipython3",
   "version": "3.7.2"
  }
 },
 "nbformat": 4,
 "nbformat_minor": 5
}
